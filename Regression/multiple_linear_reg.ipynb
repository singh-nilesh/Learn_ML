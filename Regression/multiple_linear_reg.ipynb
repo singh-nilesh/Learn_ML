{
 "cells": [
  {
   "cell_type": "markdown",
   "metadata": {},
   "source": [
    "# 1.Multiple Linear Regression\n",
    "### A statistical technique that uses two or more independent variables to predict the outcome of a dependent variable.\n",
    "\n",
    "## $$ y = b_0 + b_1X_1 + b_2X_2 + b_3X_3 + ... + b_8D_1 + b_9D_2 $$\n",
    "![alt text](https://blogs.sas.com/content/iml/files/2018/01/reglabels1.png)\n",
    "\n",
    "here, \n",
    "- **Y** is Dependent variable\n",
    "- **b<sub>0</sub>** is y-intercept(constant)\n",
    "- **b<sub>1</sub>** & **X<sub>1</sub>** is Slope coefficent & observations for first Independent variable\n",
    "- **b<sub>2</sub>** & **X<sub>2</sub>** is Slope coefficent & observations for other Independent variable\n",
    "- **b<sub>8</sub>** is Slope coefficent for Dummy variables\n",
    "- **D<sub>1</sub>** is Dummy variable observations.\n",
    "\n",
    "### Note:\n",
    "- Dummy variables are catogorical dependent variables (consits of letters) that have been converted to numeric from through encoding.\n",
    "- always include **(n-1)** number of Dummy variables form a single set. That is If there are 2 columns of Dummy variable, include only 1. For 9 Dummy variables include (8-1)=7 columns.\n",
    "- For a diffrent set of Dummy variable include another (n-1) set of columns."
   ]
  },
  {
   "cell_type": "code",
   "execution_count": null,
   "metadata": {},
   "outputs": [],
   "source": []
  }
 ],
 "metadata": {
  "language_info": {
   "name": "python"
  }
 },
 "nbformat": 4,
 "nbformat_minor": 2
}
