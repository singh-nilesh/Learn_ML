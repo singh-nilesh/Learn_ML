{
 "cells": [
  {
   "cell_type": "markdown",
   "metadata": {},
   "source": [
    "# Classification\n",
    "- Unlike regression where you predicat a continuous number, we use classification to predict a category, eg. Categorizing specific colour gradient pixal collection to identify an Object in a Picture.\n",
    "\n",
    "## Logistic Regression\n",
    "- It predicts a Categorical dependent variable from a number of Independent variables.\n",
    "\n",
    "$$\\textrm{ln} \\frac{p}{1-p} = b_0 + b_1X_2 + b_3X_3 + b_nX_n$$\n",
    "<img src='./class_photos/logisticReg.png' alt=\"Logistic regression Photo\" height='300'>\n",
    "\n",
    "Here,<br>\n",
    "**p**:Probability of the dependent Variable, <br> **b_nX_n**:Independent varible coefficent\n",
    "\n",
    "### Maximum Likelihood\n",
    "-  It seeks to find the values of the model parameters that maximize the likelihood function, which measures how well the model explains the observed data.\n",
    "<img src='./class_photos/Likelihood.png' alt='Likelihood photos' height='260'>\n",
    "$$ \\textrm{Likelihood} = \\prod{}p(X) \\times \\prod{}1-p(Y) $$\n",
    "where, <br> **X**: Probability of positive representation <br> \n",
    "\n",
    "**Y**:Probability of Negative representation\n",
    "- **Diffrent Likelihood will be obtained for diffrent graphs, Maximum among those likelihood is Used.**\n",
    "<img src='./class_photos/Log_reg_curves.png' alt='Diffrent Logistc regression Curve' height='300'>\n",
    "\n",
    "### Preprocessing"
   ]
  },
  {
   "cell_type": "code",
   "execution_count": 22,
   "metadata": {},
   "outputs": [
    {
     "name": "stdout",
     "output_type": "stream",
     "text": [
      "Libraries Imported\n"
     ]
    }
   ],
   "source": [
    "import numpy as np\n",
    "import pandas as pd\n",
    "import matplotlib.pyplot as plt\n",
    "print(\"Libraries Imported\")"
   ]
  },
  {
   "cell_type": "code",
   "execution_count": 23,
   "metadata": {},
   "outputs": [
    {
     "name": "stdout",
     "output_type": "stream",
     "text": [
      "Data Splitted\n"
     ]
    }
   ],
   "source": [
    "# Importing the dataset & Storing it in a variable X(Independent) and y(dependent)\n",
    "dataset = pd.read_csv('./class_dataset/Social_Network_Ads.csv')\n",
    "X = dataset.iloc[:, :-1].values\n",
    "y = dataset.iloc[:, -1].values\n",
    "\n",
    "# Splitting the dataset into the Training set and Test set (Ratio = 20%)\n",
    "from sklearn.model_selection import train_test_split\n",
    "X_train, X_test, y_train, y_test = train_test_split(X, y, test_size = 0.2, random_state = 0)\n",
    "print(\"Data Splitted\")"
   ]
  },
  {
   "cell_type": "code",
   "execution_count": 24,
   "metadata": {},
   "outputs": [
    {
     "name": "stdout",
     "output_type": "stream",
     "text": [
      "Data Scaled\n"
     ]
    }
   ],
   "source": [
    "# implementing Feature Scaling on the dataset to Prevent outliers from skewing the results\n",
    "from sklearn.preprocessing import StandardScaler\n",
    "sc = StandardScaler()\n",
    "X_train = sc.fit_transform(X_train)\n",
    "temp_X_test = X_test\n",
    "X_test = sc.transform(X_test)\n",
    "print(\"Data Scaled\")"
   ]
  },
  {
   "cell_type": "markdown",
   "metadata": {},
   "source": [
    "## Implementing Logistic Regression"
   ]
  },
  {
   "cell_type": "code",
   "execution_count": 25,
   "metadata": {},
   "outputs": [
    {
     "name": "stdout",
     "output_type": "stream",
     "text": [
      "Model Trained\n"
     ]
    }
   ],
   "source": [
    "# Training the Logistic Regression model on the Training sets\n",
    "from sklearn.linear_model import LogisticRegression\n",
    "classifier = LogisticRegression(random_state = 0)\n",
    "classifier.fit(X_train, y_train)\n",
    "print(\"Model Trained\")"
   ]
  },
  {
   "cell_type": "code",
   "execution_count": 59,
   "metadata": {},
   "outputs": [
    {
     "name": "stdout",
     "output_type": "stream",
     "text": [
      "probability of [notPurchased, purchased]  [[0. 1.]]\n",
      "Customer(age = 30, salary = 87000) Will Purchase car\n"
     ]
    }
   ],
   "source": [
    "# Predicting the Test set results using the classifier\n",
    "# age = 30, salary = 87000\n",
    "\n",
    "prob = classifier.predict_proba([[30,87000]])\n",
    "print(\"probability of [notPurchased, purchased] \",prob)\n",
    "\n",
    "demo_data = classifier.predict([[30,87000]])\n",
    "if demo_data == 0:\n",
    "    print(\"Customer(age = 30, salary = 87000) Will Not Purchase car\")\n",
    "else:\n",
    "    print(\"Customer(age = 30, salary = 87000) Will Purchase car\")"
   ]
  },
  {
   "cell_type": "code",
   "execution_count": 61,
   "metadata": {},
   "outputs": [
    {
     "name": "stdout",
     "output_type": "stream",
     "text": [
      " from predicted y_pred and y_test, 6 were not matched,\n",
      " they are:\n",
      " Predicted: 0, Actual: 1 for Age=37 , Salary=79000\n",
      " Predicted: 0, Actual: 1 for Age=45 , Salary=32000\n",
      " Predicted: 0, Actual: 1 for Age=49 , Salary=28000\n",
      " Predicted: 0, Actual: 1 for Age=36 , Salary=99000\n",
      " Predicted: 0, Actual: 1 for Age=45 , Salary=22000\n",
      " Predicted: 1, Actual: 0 for Age=42 , Salary=79000\n"
     ]
    }
   ],
   "source": [
    "# counting the number of correct predictions\n",
    "y_pred = classifier.predict(X_test)\n",
    "\n",
    "unMatched = [[x,a,b] for x, a, b in zip(temp_X_test, y_pred, y_test) if a != b]\n",
    "\n",
    "print(f' from predicted y_pred and y_test, {len(unMatched)} were not matched,\\n they are:')\n",
    "for obj in unMatched:\n",
    "    print(f' Predicted: {obj[1]}, Actual: {obj[2]} for Age={round(obj[0][0],2)} , Salary={round(obj[0][1],2)}')\n"
   ]
  },
  {
   "cell_type": "code",
   "execution_count": 65,
   "metadata": {},
   "outputs": [
    {
     "name": "stdout",
     "output_type": "stream",
     "text": [
      "[57  1]\n",
      "[ 5 17]\n",
      "57 correct 1 Incorrect  -> for Class 0 (Not purchesed)\n",
      "5 correct 17 Incorrect  -> for Class 1 (purchesed)\n",
      "0.925\n"
     ]
    }
   ],
   "source": [
    "# determining the accuracy\n",
    "from sklearn.metrics import confusion_matrix\n",
    "cm = confusion_matrix(y_test, y_pred)\n",
    "for col in cm:print(col)\n",
    "\n",
    "print(cm[0][0],'correct',cm[0][1],\"Incorrect\",\" -> for Class 0 (Not purchesed)\")\n",
    "print(cm[1][0],'correct',cm[1][1],\"Incorrect\", \" -> for Class 1 (purchesed)\")\n",
    "\n",
    "# finding the accuracy of predictionSS\n",
    "from sklearn.metrics import accuracy_score\n",
    "print(accuracy_score(y_test, y_pred))"
   ]
  }
 ],
 "metadata": {
  "kernelspec": {
   "display_name": "Python 3",
   "language": "python",
   "name": "python3"
  },
  "language_info": {
   "codemirror_mode": {
    "name": "ipython",
    "version": 3
   },
   "file_extension": ".py",
   "mimetype": "text/x-python",
   "name": "python",
   "nbconvert_exporter": "python",
   "pygments_lexer": "ipython3",
   "version": "3.11.2"
  }
 },
 "nbformat": 4,
 "nbformat_minor": 2
}
